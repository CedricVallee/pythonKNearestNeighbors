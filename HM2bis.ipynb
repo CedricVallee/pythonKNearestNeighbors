{
 "cells": [
  {
   "cell_type": "code",
   "execution_count": 107,
   "metadata": {
    "collapsed": true
   },
   "outputs": [],
   "source": [
    "# Load packages\n",
    "import pandas as pd\n",
    "import numpy as np\n",
    "from sklearn.neighbors import KNeighborsClassifier\n",
    "from sklearn import cross_validation\n",
    "from sklearn.preprocessing import normalize\n",
    "import matplotlib.pyplot as plt\n",
    "%matplotlib inline"
   ]
  },
  {
   "cell_type": "code",
   "execution_count": 108,
   "metadata": {
    "collapsed": false
   },
   "outputs": [
    {
     "data": {
      "text/html": [
       "<div>\n",
       "<table border=\"1\" class=\"dataframe\">\n",
       "  <thead>\n",
       "    <tr style=\"text-align: right;\">\n",
       "      <th></th>\n",
       "      <th>SDSS_J</th>\n",
       "      <th>R.A.</th>\n",
       "      <th>Dec.</th>\n",
       "      <th>z</th>\n",
       "      <th>u_mag</th>\n",
       "      <th>sig_u</th>\n",
       "      <th>g_mag</th>\n",
       "      <th>sig_g</th>\n",
       "      <th>r_mag</th>\n",
       "      <th>sig_r</th>\n",
       "      <th>...</th>\n",
       "      <th>sig_z</th>\n",
       "      <th>Radio</th>\n",
       "      <th>X-ray</th>\n",
       "      <th>J_mag</th>\n",
       "      <th>sig_J</th>\n",
       "      <th>H_mag</th>\n",
       "      <th>sig_H</th>\n",
       "      <th>K_mag</th>\n",
       "      <th>sig_K</th>\n",
       "      <th>M_i</th>\n",
       "    </tr>\n",
       "  </thead>\n",
       "  <tbody>\n",
       "    <tr>\n",
       "      <th>0</th>\n",
       "      <td>000009.26+151754.5</td>\n",
       "      <td>0.038605</td>\n",
       "      <td>15.298476</td>\n",
       "      <td>1.1986</td>\n",
       "      <td>19.921</td>\n",
       "      <td>0.042</td>\n",
       "      <td>19.811</td>\n",
       "      <td>0.036</td>\n",
       "      <td>19.386</td>\n",
       "      <td>0.017</td>\n",
       "      <td>...</td>\n",
       "      <td>0.069</td>\n",
       "      <td>-1</td>\n",
       "      <td>-9.00</td>\n",
       "      <td>0.000</td>\n",
       "      <td>0.000</td>\n",
       "      <td>0.00</td>\n",
       "      <td>0.000</td>\n",
       "      <td>0.000</td>\n",
       "      <td>0.000</td>\n",
       "      <td>-25.085</td>\n",
       "    </tr>\n",
       "    <tr>\n",
       "      <th>1</th>\n",
       "      <td>000009.38+135618.4</td>\n",
       "      <td>0.039088</td>\n",
       "      <td>13.938447</td>\n",
       "      <td>2.2400</td>\n",
       "      <td>19.218</td>\n",
       "      <td>0.026</td>\n",
       "      <td>18.893</td>\n",
       "      <td>0.022</td>\n",
       "      <td>18.445</td>\n",
       "      <td>0.018</td>\n",
       "      <td>...</td>\n",
       "      <td>0.033</td>\n",
       "      <td>-1</td>\n",
       "      <td>-9.00</td>\n",
       "      <td>0.000</td>\n",
       "      <td>0.000</td>\n",
       "      <td>0.00</td>\n",
       "      <td>0.000</td>\n",
       "      <td>0.000</td>\n",
       "      <td>0.000</td>\n",
       "      <td>-27.419</td>\n",
       "    </tr>\n",
       "    <tr>\n",
       "      <th>2</th>\n",
       "      <td>000009.42-102751.9</td>\n",
       "      <td>0.039269</td>\n",
       "      <td>-10.464428</td>\n",
       "      <td>1.8442</td>\n",
       "      <td>19.249</td>\n",
       "      <td>0.036</td>\n",
       "      <td>19.029</td>\n",
       "      <td>0.027</td>\n",
       "      <td>18.980</td>\n",
       "      <td>0.021</td>\n",
       "      <td>...</td>\n",
       "      <td>0.047</td>\n",
       "      <td>0</td>\n",
       "      <td>-9.00</td>\n",
       "      <td>0.000</td>\n",
       "      <td>0.000</td>\n",
       "      <td>0.00</td>\n",
       "      <td>0.000</td>\n",
       "      <td>0.000</td>\n",
       "      <td>0.000</td>\n",
       "      <td>-26.459</td>\n",
       "    </tr>\n",
       "    <tr>\n",
       "      <th>3</th>\n",
       "      <td>000011.41+145545.6</td>\n",
       "      <td>0.047547</td>\n",
       "      <td>14.929353</td>\n",
       "      <td>0.4596</td>\n",
       "      <td>19.637</td>\n",
       "      <td>0.030</td>\n",
       "      <td>19.466</td>\n",
       "      <td>0.024</td>\n",
       "      <td>19.362</td>\n",
       "      <td>0.022</td>\n",
       "      <td>...</td>\n",
       "      <td>0.047</td>\n",
       "      <td>-1</td>\n",
       "      <td>-9.00</td>\n",
       "      <td>0.000</td>\n",
       "      <td>0.000</td>\n",
       "      <td>0.00</td>\n",
       "      <td>0.000</td>\n",
       "      <td>0.000</td>\n",
       "      <td>0.000</td>\n",
       "      <td>-22.728</td>\n",
       "    </tr>\n",
       "    <tr>\n",
       "      <th>4</th>\n",
       "      <td>000011.96+000225.3</td>\n",
       "      <td>0.049842</td>\n",
       "      <td>0.040372</td>\n",
       "      <td>0.4790</td>\n",
       "      <td>18.237</td>\n",
       "      <td>0.028</td>\n",
       "      <td>17.971</td>\n",
       "      <td>0.020</td>\n",
       "      <td>18.025</td>\n",
       "      <td>0.019</td>\n",
       "      <td>...</td>\n",
       "      <td>0.029</td>\n",
       "      <td>0</td>\n",
       "      <td>-1.66</td>\n",
       "      <td>16.651</td>\n",
       "      <td>0.136</td>\n",
       "      <td>15.82</td>\n",
       "      <td>0.149</td>\n",
       "      <td>14.821</td>\n",
       "      <td>0.111</td>\n",
       "      <td>-24.046</td>\n",
       "    </tr>\n",
       "  </tbody>\n",
       "</table>\n",
       "<p>5 rows × 23 columns</p>\n",
       "</div>"
      ],
      "text/plain": [
       "               SDSS_J      R.A.        Dec.       z   u_mag  sig_u   g_mag  \\\n",
       "0  000009.26+151754.5  0.038605   15.298476  1.1986  19.921  0.042  19.811   \n",
       "1  000009.38+135618.4  0.039088   13.938447  2.2400  19.218  0.026  18.893   \n",
       "2  000009.42-102751.9  0.039269  -10.464428  1.8442  19.249  0.036  19.029   \n",
       "3  000011.41+145545.6  0.047547   14.929353  0.4596  19.637  0.030  19.466   \n",
       "4  000011.96+000225.3  0.049842    0.040372  0.4790  18.237  0.028  17.971   \n",
       "\n",
       "   sig_g   r_mag  sig_r   ...    sig_z  Radio  X-ray   J_mag  sig_J  H_mag  \\\n",
       "0  0.036  19.386  0.017   ...    0.069     -1  -9.00   0.000  0.000   0.00   \n",
       "1  0.022  18.445  0.018   ...    0.033     -1  -9.00   0.000  0.000   0.00   \n",
       "2  0.027  18.980  0.021   ...    0.047      0  -9.00   0.000  0.000   0.00   \n",
       "3  0.024  19.362  0.022   ...    0.047     -1  -9.00   0.000  0.000   0.00   \n",
       "4  0.020  18.025  0.019   ...    0.029      0  -1.66  16.651  0.136  15.82   \n",
       "\n",
       "   sig_H   K_mag  sig_K     M_i  \n",
       "0  0.000   0.000  0.000 -25.085  \n",
       "1  0.000   0.000  0.000 -27.419  \n",
       "2  0.000   0.000  0.000 -26.459  \n",
       "3  0.000   0.000  0.000 -22.728  \n",
       "4  0.149  14.821  0.111 -24.046  \n",
       "\n",
       "[5 rows x 23 columns]"
      ]
     },
     "execution_count": 108,
     "metadata": {},
     "output_type": "execute_result"
    }
   ],
   "source": [
    "# Load the dataframe\n",
    "quasar=pd.read_csv(\"quasar.csv\", sep=',')\n",
    "quasar.head()"
   ]
  },
  {
   "cell_type": "code",
   "execution_count": 109,
   "metadata": {
    "collapsed": false
   },
   "outputs": [
    {
     "data": {
      "text/html": [
       "<div>\n",
       "<table border=\"1\" class=\"dataframe\">\n",
       "  <thead>\n",
       "    <tr style=\"text-align: right;\">\n",
       "      <th></th>\n",
       "      <th>Ultra</th>\n",
       "      <th>Visible</th>\n",
       "      <th>Infra</th>\n",
       "    </tr>\n",
       "  </thead>\n",
       "  <tbody>\n",
       "    <tr>\n",
       "      <th>0</th>\n",
       "      <td>0.110</td>\n",
       "      <td>0.425</td>\n",
       "      <td>-0.158</td>\n",
       "    </tr>\n",
       "    <tr>\n",
       "      <th>1</th>\n",
       "      <td>0.325</td>\n",
       "      <td>0.448</td>\n",
       "      <td>0.221</td>\n",
       "    </tr>\n",
       "    <tr>\n",
       "      <th>2</th>\n",
       "      <td>0.220</td>\n",
       "      <td>0.049</td>\n",
       "      <td>0.040</td>\n",
       "    </tr>\n",
       "    <tr>\n",
       "      <th>3</th>\n",
       "      <td>0.171</td>\n",
       "      <td>0.104</td>\n",
       "      <td>0.188</td>\n",
       "    </tr>\n",
       "    <tr>\n",
       "      <th>4</th>\n",
       "      <td>0.266</td>\n",
       "      <td>-0.054</td>\n",
       "      <td>0.045</td>\n",
       "    </tr>\n",
       "  </tbody>\n",
       "</table>\n",
       "</div>"
      ],
      "text/plain": [
       "   Ultra  Visible  Infra\n",
       "0  0.110    0.425 -0.158\n",
       "1  0.325    0.448  0.221\n",
       "2  0.220    0.049  0.040\n",
       "3  0.171    0.104  0.188\n",
       "4  0.266   -0.054  0.045"
      ]
     },
     "execution_count": 109,
     "metadata": {},
     "output_type": "execute_result"
    }
   ],
   "source": [
    "# Create a matrix of variables X and a target vector y\n",
    "y=pd.DataFrame()\n",
    "y=quasar['z']\n",
    "X=pd.DataFrame()\n",
    "X[0] = quasar['u_mag'] - quasar['g_mag']\n",
    "X[1] = quasar['g_mag'] - quasar['r_mag']\n",
    "X[2] = quasar['i_mag'] - quasar['z_mag']\n",
    "X.columns = ['Ultra', 'Visible','Infra']\n",
    "X.head()"
   ]
  },
  {
   "cell_type": "code",
   "execution_count": 110,
   "metadata": {
    "collapsed": false
   },
   "outputs": [
    {
     "data": {
      "text/html": [
       "<div>\n",
       "<table border=\"1\" class=\"dataframe\">\n",
       "  <thead>\n",
       "    <tr style=\"text-align: right;\">\n",
       "      <th></th>\n",
       "      <th>Ultra</th>\n",
       "      <th>Visible</th>\n",
       "      <th>Infra</th>\n",
       "    </tr>\n",
       "  </thead>\n",
       "  <tbody>\n",
       "    <tr>\n",
       "      <th>0</th>\n",
       "      <td>-0.452028</td>\n",
       "      <td>0.612855</td>\n",
       "      <td>-1.462714</td>\n",
       "    </tr>\n",
       "    <tr>\n",
       "      <th>1</th>\n",
       "      <td>-0.168708</td>\n",
       "      <td>0.682385</td>\n",
       "      <td>0.751445</td>\n",
       "    </tr>\n",
       "    <tr>\n",
       "      <th>2</th>\n",
       "      <td>-0.307073</td>\n",
       "      <td>-0.523800</td>\n",
       "      <td>-0.305976</td>\n",
       "    </tr>\n",
       "    <tr>\n",
       "      <th>3</th>\n",
       "      <td>-0.371644</td>\n",
       "      <td>-0.357534</td>\n",
       "      <td>0.558656</td>\n",
       "    </tr>\n",
       "    <tr>\n",
       "      <th>4</th>\n",
       "      <td>-0.246456</td>\n",
       "      <td>-0.835170</td>\n",
       "      <td>-0.276766</td>\n",
       "    </tr>\n",
       "  </tbody>\n",
       "</table>\n",
       "</div>"
      ],
      "text/plain": [
       "      Ultra   Visible     Infra\n",
       "0 -0.452028  0.612855 -1.462714\n",
       "1 -0.168708  0.682385  0.751445\n",
       "2 -0.307073 -0.523800 -0.305976\n",
       "3 -0.371644 -0.357534  0.558656\n",
       "4 -0.246456 -0.835170 -0.276766"
      ]
     },
     "execution_count": 110,
     "metadata": {},
     "output_type": "execute_result"
    }
   ],
   "source": [
    "# Scale the variables\n",
    "X=(X-X.mean())/(X.std())\n",
    "X.head()"
   ]
  },
  {
   "cell_type": "code",
   "execution_count": 121,
   "metadata": {
    "collapsed": false
   },
   "outputs": [
    {
     "data": {
      "text/plain": [
       "numpy.ndarray"
      ]
     },
     "execution_count": 121,
     "metadata": {},
     "output_type": "execute_result"
    }
   ],
   "source": [
    "type(y.as_matrix())"
   ]
  },
  {
   "cell_type": "code",
   "execution_count": 122,
   "metadata": {
    "collapsed": false
   },
   "outputs": [
    {
     "data": {
      "text/plain": [
       "numpy.ndarray"
      ]
     },
     "execution_count": 122,
     "metadata": {},
     "output_type": "execute_result"
    }
   ],
   "source": [
    "type(X.as_matrix())"
   ]
  },
  {
   "cell_type": "code",
   "execution_count": 123,
   "metadata": {
    "collapsed": false
   },
   "outputs": [
    {
     "ename": "ValueError",
     "evalue": "Unknown label type: array([[ 1.1986],\n       [ 2.24  ],\n       [ 1.8442],\n       ..., \n       [ 2.3826],\n       [ 2.0382],\n       [ 1.2845]])",
     "output_type": "error",
     "traceback": [
      "\u001b[1;31m---------------------------------------------------------------------------\u001b[0m",
      "\u001b[1;31mValueError\u001b[0m                                Traceback (most recent call last)",
      "\u001b[1;32m<ipython-input-123-7f29d91b9ae6>\u001b[0m in \u001b[0;36m<module>\u001b[1;34m()\u001b[0m\n\u001b[0;32m      1\u001b[0m \u001b[0mknn\u001b[0m\u001b[1;33m=\u001b[0m\u001b[0mKNeighborsClassifier\u001b[0m\u001b[1;33m(\u001b[0m\u001b[0mn_neighbors\u001b[0m\u001b[1;33m=\u001b[0m\u001b[1;36m3\u001b[0m\u001b[1;33m)\u001b[0m\u001b[1;33m\u001b[0m\u001b[0m\n\u001b[1;32m----> 2\u001b[1;33m \u001b[0mknn\u001b[0m\u001b[1;33m.\u001b[0m\u001b[0mfit\u001b[0m\u001b[1;33m(\u001b[0m\u001b[0mX\u001b[0m\u001b[1;33m.\u001b[0m\u001b[0mas_matrix\u001b[0m\u001b[1;33m(\u001b[0m\u001b[1;33m)\u001b[0m\u001b[1;33m,\u001b[0m\u001b[0my\u001b[0m\u001b[1;33m.\u001b[0m\u001b[0mas_matrix\u001b[0m\u001b[1;33m(\u001b[0m\u001b[1;33m)\u001b[0m\u001b[1;33m)\u001b[0m\u001b[1;33m\u001b[0m\u001b[0m\n\u001b[0m",
      "\u001b[1;32mC:\\Users\\Cedric\\Anaconda2\\lib\\site-packages\\sklearn\\neighbors\\base.pyc\u001b[0m in \u001b[0;36mfit\u001b[1;34m(self, X, y)\u001b[0m\n\u001b[0;32m    790\u001b[0m             \u001b[0mself\u001b[0m\u001b[1;33m.\u001b[0m\u001b[0moutputs_2d_\u001b[0m \u001b[1;33m=\u001b[0m \u001b[0mTrue\u001b[0m\u001b[1;33m\u001b[0m\u001b[0m\n\u001b[0;32m    791\u001b[0m \u001b[1;33m\u001b[0m\u001b[0m\n\u001b[1;32m--> 792\u001b[1;33m         \u001b[0mcheck_classification_targets\u001b[0m\u001b[1;33m(\u001b[0m\u001b[0my\u001b[0m\u001b[1;33m)\u001b[0m\u001b[1;33m\u001b[0m\u001b[0m\n\u001b[0m\u001b[0;32m    793\u001b[0m         \u001b[0mself\u001b[0m\u001b[1;33m.\u001b[0m\u001b[0mclasses_\u001b[0m \u001b[1;33m=\u001b[0m \u001b[1;33m[\u001b[0m\u001b[1;33m]\u001b[0m\u001b[1;33m\u001b[0m\u001b[0m\n\u001b[0;32m    794\u001b[0m         \u001b[0mself\u001b[0m\u001b[1;33m.\u001b[0m\u001b[0m_y\u001b[0m \u001b[1;33m=\u001b[0m \u001b[0mnp\u001b[0m\u001b[1;33m.\u001b[0m\u001b[0mempty\u001b[0m\u001b[1;33m(\u001b[0m\u001b[0my\u001b[0m\u001b[1;33m.\u001b[0m\u001b[0mshape\u001b[0m\u001b[1;33m,\u001b[0m \u001b[0mdtype\u001b[0m\u001b[1;33m=\u001b[0m\u001b[0mnp\u001b[0m\u001b[1;33m.\u001b[0m\u001b[0mint\u001b[0m\u001b[1;33m)\u001b[0m\u001b[1;33m\u001b[0m\u001b[0m\n",
      "\u001b[1;32mC:\\Users\\Cedric\\Anaconda2\\lib\\site-packages\\sklearn\\utils\\multiclass.pyc\u001b[0m in \u001b[0;36mcheck_classification_targets\u001b[1;34m(y)\u001b[0m\n\u001b[0;32m    171\u001b[0m     if y_type not in ['binary', 'multiclass', 'multiclass-multioutput', \n\u001b[0;32m    172\u001b[0m             'multilabel-indicator', 'multilabel-sequences']:\n\u001b[1;32m--> 173\u001b[1;33m         \u001b[1;32mraise\u001b[0m \u001b[0mValueError\u001b[0m\u001b[1;33m(\u001b[0m\u001b[1;34m\"Unknown label type: %r\"\u001b[0m \u001b[1;33m%\u001b[0m \u001b[0my\u001b[0m\u001b[1;33m)\u001b[0m\u001b[1;33m\u001b[0m\u001b[0m\n\u001b[0m\u001b[0;32m    174\u001b[0m \u001b[1;33m\u001b[0m\u001b[0m\n\u001b[0;32m    175\u001b[0m \u001b[1;33m\u001b[0m\u001b[0m\n",
      "\u001b[1;31mValueError\u001b[0m: Unknown label type: array([[ 1.1986],\n       [ 2.24  ],\n       [ 1.8442],\n       ..., \n       [ 2.3826],\n       [ 2.0382],\n       [ 1.2845]])"
     ]
    }
   ],
   "source": [
    "knn=KNeighborsClassifier(n_neighbors=3)\n",
    "knn.fit(X.as_matrix(),y.as_matrix())"
   ]
  },
  {
   "cell_type": "code",
   "execution_count": null,
   "metadata": {
    "collapsed": true
   },
   "outputs": [],
   "source": []
  }
 ],
 "metadata": {
  "kernelspec": {
   "display_name": "Python 2",
   "language": "python",
   "name": "python2"
  },
  "language_info": {
   "codemirror_mode": {
    "name": "ipython",
    "version": 2
   },
   "file_extension": ".py",
   "mimetype": "text/x-python",
   "name": "python",
   "nbconvert_exporter": "python",
   "pygments_lexer": "ipython2",
   "version": "2.7.11"
  }
 },
 "nbformat": 4,
 "nbformat_minor": 0
}
